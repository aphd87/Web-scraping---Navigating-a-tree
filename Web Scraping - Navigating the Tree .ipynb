{
 "cells": [
  {
   "cell_type": "code",
   "execution_count": 2,
   "id": "02343f25",
   "metadata": {},
   "outputs": [],
   "source": [
    "#Import the required library\n",
    "from bs4 import BeautifulSoup"
   ]
  },
  {
   "cell_type": "code",
   "execution_count": 6,
   "id": "4baeb272",
   "metadata": {},
   "outputs": [],
   "source": [
    "#Create HTML document\n",
    "book_html_doc = \"\"\"<catalog>\n",
    "<head><title>The web book catalog </title></head>\n",
    "<p class=\"title\"><b>The Book Catalog</b></p>\n",
    "<books>\n",
    "<book id=\"bk001\">\n",
    "<author>Hightower, Kim</author>\n",
    "<title>The First Book</title>\n",
    "    <genre>Fiction</genre>\n",
    "    <price>44.95</price>\n",
    "    <pub_date>2000-10-01</pub_date>\n",
    "    <review>An amazing story of nothing.</review>\n",
    "</book>\n",
    "<book id=\"bk002\">\n",
    "    <author>Nagata, Suanne</author>\n",
    "    <title>Becoming Somebody</title>\n",
    "    <genre>Biography</genre>\n",
    "    <review>A masterpiece of the fine art of gossiping.</review>\n",
    "</book>\n",
    "<book id=\"bk003\">\n",
    "    <author>Oberg, Bruce</author>\n",
    "    <title>The Poet's First Poem</title>\n",
    "    <genre>Poem</genre>\n",
    "    <price>24.95</price>\n",
    "    <review>The least poetic poems of the decade.</review>\n",
    "</book> </books></catalog>\"\"\""
   ]
  },
  {
   "cell_type": "code",
   "execution_count": 7,
   "id": "d78c8400",
   "metadata": {},
   "outputs": [],
   "source": [
    "#Create a soup object\n",
    "book_soup = BeautifulSoup(book_html_doc,'html.parser')"
   ]
  },
  {
   "cell_type": "code",
   "execution_count": 9,
   "id": "886f79f0",
   "metadata": {},
   "outputs": [
    {
     "name": "stdout",
     "output_type": "stream",
     "text": [
      "<catalog>\n",
      "<head><title>The web book catalog </title></head>\n",
      "<p class=\"title\"><b>The Book Catalog</b></p>\n",
      "<books>\n",
      "<book id=\"bk001\">\n",
      "<author>Hightower, Kim</author>\n",
      "<title>The First Book</title>\n",
      "<genre>Fiction</genre>\n",
      "<price>44.95</price>\n",
      "<pub_date>2000-10-01</pub_date>\n",
      "<review>An amazing story of nothing.</review>\n",
      "</book>\n",
      "<book id=\"bk002\">\n",
      "<author>Nagata, Suanne</author>\n",
      "<title>Becoming Somebody</title>\n",
      "<genre>Biography</genre>\n",
      "<review>A masterpiece of the fine art of gossiping.</review>\n",
      "</book>\n",
      "<book id=\"bk003\">\n",
      "<author>Oberg, Bruce</author>\n",
      "<title>The Poet's First Poem</title>\n",
      "<genre>Poem</genre>\n",
      "<price>24.95</price>\n",
      "<review>The least poetic poems of the decade.</review>\n",
      "</book> </books></catalog>\n"
     ]
    }
   ],
   "source": [
    "print(book_soup.catalog)"
   ]
  },
  {
   "cell_type": "code",
   "execution_count": 10,
   "id": "71d98c2e",
   "metadata": {},
   "outputs": [
    {
     "data": {
      "text/plain": [
       "<head><title>The web book catalog </title></head>"
      ]
     },
     "execution_count": 10,
     "metadata": {},
     "output_type": "execute_result"
    }
   ],
   "source": [
    "#View the head of the book html doc\n",
    "book_soup.head"
   ]
  },
  {
   "cell_type": "code",
   "execution_count": 11,
   "id": "e5f7ff15",
   "metadata": {},
   "outputs": [
    {
     "data": {
      "text/plain": [
       "<title>The web book catalog </title>"
      ]
     },
     "execution_count": 11,
     "metadata": {},
     "output_type": "execute_result"
    }
   ],
   "source": [
    "#View the title of the book html doc\n",
    "title_tag = book_soup.title\n",
    "title_tag"
   ]
  },
  {
   "cell_type": "code",
   "execution_count": 12,
   "id": "2133246d",
   "metadata": {},
   "outputs": [
    {
     "name": "stdout",
     "output_type": "stream",
     "text": [
      "<p class=\"title\"><b>The Book Catalog</b></p>\n"
     ]
    }
   ],
   "source": [
    "#Print the catalog bold tag \n",
    "print(book_soup.catalog.p)"
   ]
  },
  {
   "cell_type": "code",
   "execution_count": 13,
   "id": "50994e5c",
   "metadata": {},
   "outputs": [
    {
     "name": "stdout",
     "output_type": "stream",
     "text": [
      "<title>The web book catalog </title>\n",
      "The web book catalog \n"
     ]
    }
   ],
   "source": [
    "#Navigate down the descendants and print them \n",
    "for descen in book_soup.head.descendants:\n",
    "    print(descen)"
   ]
  },
  {
   "cell_type": "code",
   "execution_count": 16,
   "id": "7032bf29",
   "metadata": {},
   "outputs": [
    {
     "name": "stdout",
     "output_type": "stream",
     "text": [
      "'The web book catalog'\n",
      "'The Book Catalog'\n",
      "'Hightower, Kim'\n",
      "'The First Book'\n",
      "'Fiction'\n",
      "'44.95'\n",
      "'2000-10-01'\n",
      "'An amazing story of nothing.'\n",
      "'Nagata, Suanne'\n",
      "'Becoming Somebody'\n",
      "'Biography'\n",
      "'A masterpiece of the fine art of gossiping.'\n",
      "'Oberg, Bruce'\n",
      "\"The Poet's First Poem\"\n",
      "'Poem'\n",
      "'24.95'\n",
      "'The least poetic poems of the decade.'\n"
     ]
    }
   ],
   "source": [
    "#Navigate down using stripped string method \n",
    "for string in book_soup.stripped_strings:\n",
    "    print(repr(string))"
   ]
  },
  {
   "cell_type": "code",
   "execution_count": 17,
   "id": "f192a847",
   "metadata": {},
   "outputs": [
    {
     "data": {
      "text/plain": [
       "<head><title>The web book catalog </title></head>"
      ]
     },
     "execution_count": 17,
     "metadata": {},
     "output_type": "execute_result"
    }
   ],
   "source": [
    "#Navigate up using parent method \n",
    "title_tag.parent"
   ]
  },
  {
   "cell_type": "code",
   "execution_count": 18,
   "id": "0c304475",
   "metadata": {},
   "outputs": [],
   "source": [
    "#Create element object to navigate back and forth\n",
    "element_soup = book_soup.catalog.books"
   ]
  },
  {
   "cell_type": "code",
   "execution_count": 19,
   "id": "65527c42",
   "metadata": {},
   "outputs": [
    {
     "data": {
      "text/plain": [
       "<book id=\"bk001\">\n",
       "<author>Hightower, Kim</author>\n",
       "<title>The First Book</title>\n",
       "<genre>Fiction</genre>\n",
       "<price>44.95</price>\n",
       "<pub_date>2000-10-01</pub_date>\n",
       "<review>An amazing story of nothing.</review>\n",
       "</book>"
      ]
     },
     "execution_count": 19,
     "metadata": {},
     "output_type": "execute_result"
    }
   ],
   "source": [
    "#Navigate forward using next_element method \n",
    "next_element = element_soup.next_element.next_element\n",
    "next_element"
   ]
  },
  {
   "cell_type": "code",
   "execution_count": 20,
   "id": "c379c5a5",
   "metadata": {},
   "outputs": [
    {
     "data": {
      "text/plain": [
       "<books>\n",
       "<book id=\"bk001\">\n",
       "<author>Hightower, Kim</author>\n",
       "<title>The First Book</title>\n",
       "<genre>Fiction</genre>\n",
       "<price>44.95</price>\n",
       "<pub_date>2000-10-01</pub_date>\n",
       "<review>An amazing story of nothing.</review>\n",
       "</book>\n",
       "<book id=\"bk002\">\n",
       "<author>Nagata, Suanne</author>\n",
       "<title>Becoming Somebody</title>\n",
       "<genre>Biography</genre>\n",
       "<review>A masterpiece of the fine art of gossiping.</review>\n",
       "</book>\n",
       "<book id=\"bk003\">\n",
       "<author>Oberg, Bruce</author>\n",
       "<title>The Poet's First Poem</title>\n",
       "<genre>Poem</genre>\n",
       "<price>24.95</price>\n",
       "<review>The least poetic poems of the decade.</review>\n",
       "</book> </books>"
      ]
     },
     "execution_count": 20,
     "metadata": {},
     "output_type": "execute_result"
    }
   ],
   "source": [
    "#Navigate back using previous_element method \n",
    "previous_element = next_element.previous_element.previous_element\n",
    "previous_element"
   ]
  },
  {
   "cell_type": "code",
   "execution_count": 21,
   "id": "b1c52371",
   "metadata": {},
   "outputs": [
    {
     "data": {
      "text/plain": [
       "<book id=\"bk001\">\n",
       "<author>Hightower, Kim</author>\n",
       "<title>The First Book</title>\n",
       "<genre>Fiction</genre>\n",
       "<price>44.95</price>\n",
       "<pub_date>2000-10-01</pub_date>\n",
       "<review>An amazing story of nothing.</review>\n",
       "</book>"
      ]
     },
     "execution_count": 21,
     "metadata": {},
     "output_type": "execute_result"
    }
   ],
   "source": [
    "#Create a sibling object and navigate to view it\n",
    "next_sibling = book_soup.catalog.books.book\n",
    "next_sibling"
   ]
  },
  {
   "cell_type": "code",
   "execution_count": 22,
   "id": "317a7b9a",
   "metadata": {},
   "outputs": [
    {
     "data": {
      "text/plain": [
       "<book id=\"bk002\">\n",
       "<author>Nagata, Suanne</author>\n",
       "<title>Becoming Somebody</title>\n",
       "<genre>Biography</genre>\n",
       "<review>A masterpiece of the fine art of gossiping.</review>\n",
       "</book>"
      ]
     },
     "execution_count": 22,
     "metadata": {},
     "output_type": "execute_result"
    }
   ],
   "source": [
    "#Navigate to the next sibling \n",
    "next_sibling2 = next_sibling.next_sibling\n",
    "next_sibling2.next_sibling"
   ]
  },
  {
   "cell_type": "code",
   "execution_count": 23,
   "id": "89616b17",
   "metadata": {},
   "outputs": [
    {
     "data": {
      "text/plain": [
       "<book id=\"bk001\">\n",
       "<author>Hightower, Kim</author>\n",
       "<title>The First Book</title>\n",
       "<genre>Fiction</genre>\n",
       "<price>44.95</price>\n",
       "<pub_date>2000-10-01</pub_date>\n",
       "<review>An amazing story of nothing.</review>\n",
       "</book>"
      ]
     },
     "execution_count": 23,
     "metadata": {},
     "output_type": "execute_result"
    }
   ],
   "source": [
    "#Navgiate to the previous sibling \n",
    "previous_sibling = next_sibling2.previous_sibling \n",
    "previous_sibling"
   ]
  },
  {
   "cell_type": "code",
   "execution_count": null,
   "id": "ba11d05b",
   "metadata": {},
   "outputs": [],
   "source": []
  }
 ],
 "metadata": {
  "kernelspec": {
   "display_name": "Python 3 (ipykernel)",
   "language": "python",
   "name": "python3"
  },
  "language_info": {
   "codemirror_mode": {
    "name": "ipython",
    "version": 3
   },
   "file_extension": ".py",
   "mimetype": "text/x-python",
   "name": "python",
   "nbconvert_exporter": "python",
   "pygments_lexer": "ipython3",
   "version": "3.9.12"
  }
 },
 "nbformat": 4,
 "nbformat_minor": 5
}
